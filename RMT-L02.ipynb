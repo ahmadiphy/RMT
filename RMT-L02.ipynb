{
 "cells": [
  {
   "cell_type": "markdown",
   "metadata": {},
   "source": [
    "# Generate a random matrix"
   ]
  },
  {
   "cell_type": "code",
   "execution_count": 1,
   "metadata": {},
   "outputs": [],
   "source": [
    "import numpy as np"
   ]
  },
  {
   "cell_type": "code",
   "execution_count": 2,
   "metadata": {},
   "outputs": [
    {
     "data": {
      "text/plain": [
       "array([[0., 0., 0., 0., 0.],\n",
       "       [0., 0., 0., 0., 0.],\n",
       "       [0., 0., 0., 0., 0.],\n",
       "       [0., 0., 0., 0., 0.],\n",
       "       [0., 0., 0., 0., 0.]])"
      ]
     },
     "execution_count": 2,
     "metadata": {},
     "output_type": "execute_result"
    }
   ],
   "source": [
    "rmat = np.zeros((5, 5))\n",
    "rmat"
   ]
  },
  {
   "cell_type": "code",
   "execution_count": 3,
   "metadata": {},
   "outputs": [
    {
     "data": {
      "text/plain": [
       "array([[ 0.38237273, -0.28098603,  0.12140554,  0.79304058,  0.6345158 ],\n",
       "       [ 0.91358735,  0.93415311,  0.18354814,  0.77679791,  0.35631391],\n",
       "       [ 0.73573231,  0.93016902, -0.26026428,  0.54911047,  0.70442983],\n",
       "       [-0.67082626,  0.59892616,  0.68323872, -0.46333925,  0.20810979],\n",
       "       [-0.63060655, -0.59341754,  0.86304413, -0.29471893, -0.99859682]])"
      ]
     },
     "execution_count": 3,
     "metadata": {},
     "output_type": "execute_result"
    }
   ],
   "source": [
    "for i in range(len(rmat)):\n",
    "    for j in range(len(rmat[i])):\n",
    "        rmat[i][j] = np.random.uniform(-1.0, 1.0)\n",
    "rmat"
   ]
  },
  {
   "cell_type": "markdown",
   "metadata": {},
   "source": [
    "symmetrization\n",
    "<br>\n",
    "$H_{s} = (H +H^{T} )/2$"
   ]
  },
  {
   "cell_type": "code",
   "execution_count": 4,
   "metadata": {},
   "outputs": [
    {
     "data": {
      "text/plain": [
       "array([[ 0.38237273,  0.91358735,  0.73573231, -0.67082626, -0.63060655],\n",
       "       [-0.28098603,  0.93415311,  0.93016902,  0.59892616, -0.59341754],\n",
       "       [ 0.12140554,  0.18354814, -0.26026428,  0.68323872,  0.86304413],\n",
       "       [ 0.79304058,  0.77679791,  0.54911047, -0.46333925, -0.29471893],\n",
       "       [ 0.6345158 ,  0.35631391,  0.70442983,  0.20810979, -0.99859682]])"
      ]
     },
     "execution_count": 4,
     "metadata": {},
     "output_type": "execute_result"
    }
   ],
   "source": [
    "rmatT = np.transpose(rmat)\n",
    "rmatT"
   ]
  },
  {
   "cell_type": "code",
   "execution_count": 5,
   "metadata": {},
   "outputs": [
    {
     "data": {
      "text/plain": [
       "array([[ 0.38237273,  0.31630066,  0.42856892,  0.06110716,  0.00195462],\n",
       "       [ 0.31630066,  0.93415311,  0.55685858,  0.68786203, -0.11855182],\n",
       "       [ 0.42856892,  0.55685858, -0.26026428,  0.6161746 ,  0.78373698],\n",
       "       [ 0.06110716,  0.68786203,  0.6161746 , -0.46333925, -0.04330457],\n",
       "       [ 0.00195462, -0.11855182,  0.78373698, -0.04330457, -0.99859682]])"
      ]
     },
     "execution_count": 5,
     "metadata": {},
     "output_type": "execute_result"
    }
   ],
   "source": [
    "RMTs = (rmat + rmatT)/2\n",
    "RMTs"
   ]
  },
  {
   "cell_type": "code",
   "execution_count": 6,
   "metadata": {},
   "outputs": [
    {
     "data": {
      "text/plain": [
       "array([[0., 0., 0., 0., 0.],\n",
       "       [0., 0., 0., 0., 0.],\n",
       "       [0., 0., 0., 0., 0.],\n",
       "       [0., 0., 0., 0., 0.],\n",
       "       [0., 0., 0., 0., 0.]])"
      ]
     },
     "execution_count": 6,
     "metadata": {},
     "output_type": "execute_result"
    }
   ],
   "source": [
    "grmt = np.zeros((5, 5))\n",
    "grmt"
   ]
  },
  {
   "cell_type": "code",
   "execution_count": 7,
   "metadata": {},
   "outputs": [
    {
     "data": {
      "text/plain": [
       "array([[ 0.30080138,  0.37083016, -1.33442313, -0.14477761, -1.91078429],\n",
       "       [ 0.37083016, -0.03323607,  3.3272438 , -0.66776093, -0.33969376],\n",
       "       [-1.33442313,  3.3272438 , -0.70546326, -1.06323783,  0.16370404],\n",
       "       [-0.14477761, -0.66776093, -1.06323783,  0.52165121, -0.69929786],\n",
       "       [-1.91078429, -0.33969376,  0.16370404, -0.69929786,  0.15263751]])"
      ]
     },
     "execution_count": 7,
     "metadata": {},
     "output_type": "execute_result"
    }
   ],
   "source": [
    "for i in range(len(grmt)):\n",
    "    for j in range(i, len(grmt[i])):\n",
    "        grmt[i][j] = np.random.normal(0.0, 1.0)\n",
    "        grmt[j][i] = grmt[i][j]\n",
    "grmt  "
   ]
  },
  {
   "cell_type": "markdown",
   "metadata": {},
   "source": [
    "Spectral analysis of the matrix"
   ]
  },
  {
   "cell_type": "code",
   "execution_count": 8,
   "metadata": {},
   "outputs": [],
   "source": [
    "from numpy import linalg as LA"
   ]
  },
  {
   "cell_type": "code",
   "execution_count": 9,
   "metadata": {},
   "outputs": [
    {
     "name": "stdout",
     "output_type": "stream",
     "text": [
      "[-4.12547656  3.66604989  2.20406946 -1.79495797  0.28670594]\n"
     ]
    }
   ],
   "source": [
    "w, v = LA.eig(grmt)\n",
    "print(w)"
   ]
  },
  {
   "cell_type": "code",
   "execution_count": 10,
   "metadata": {},
   "outputs": [
    {
     "name": "stdout",
     "output_type": "stream",
     "text": [
      "[[ 0.30720718 -0.28322388  0.64288324  0.5514466   0.32865752]\n",
      " [-0.59756993  0.5874127   0.38996651  0.31153391 -0.22074701]\n",
      " [ 0.72929656  0.63092967  0.12096287 -0.09484126 -0.21547019]\n",
      " [ 0.10238973 -0.36956833 -0.01727188  0.29481058 -0.87505657]\n",
      " [ 0.07859257  0.2001938  -0.6478402   0.70918625  0.1763621 ]]\n"
     ]
    }
   ],
   "source": [
    "print(v)"
   ]
  },
  {
   "cell_type": "code",
   "execution_count": 11,
   "metadata": {},
   "outputs": [
    {
     "data": {
      "text/plain": [
       "0.23639075752658933"
      ]
     },
     "execution_count": 11,
     "metadata": {},
     "output_type": "execute_result"
    }
   ],
   "source": [
    "np.sum(w)"
   ]
  },
  {
   "cell_type": "code",
   "execution_count": null,
   "metadata": {},
   "outputs": [],
   "source": []
  }
 ],
 "metadata": {
  "kernelspec": {
   "display_name": "Python 3",
   "language": "python",
   "name": "python3"
  },
  "language_info": {
   "codemirror_mode": {
    "name": "ipython",
    "version": 3
   },
   "file_extension": ".py",
   "mimetype": "text/x-python",
   "name": "python",
   "nbconvert_exporter": "python",
   "pygments_lexer": "ipython3",
   "version": "3.7.0"
  }
 },
 "nbformat": 4,
 "nbformat_minor": 4
}
