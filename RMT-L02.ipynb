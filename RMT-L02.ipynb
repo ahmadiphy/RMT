{
 "cells": [
  {
   "cell_type": "markdown",
   "metadata": {},
   "source": [
    "Generating a random matrix"
   ]
  },
  {
   "cell_type": "code",
   "execution_count": 1,
   "metadata": {},
   "outputs": [],
   "source": [
    "import numpy as np"
   ]
  },
  {
   "cell_type": "code",
   "execution_count": 2,
   "metadata": {},
   "outputs": [
    {
     "data": {
      "text/plain": [
       "array([[0., 0., 0., 0., 0.],\n",
       "       [0., 0., 0., 0., 0.],\n",
       "       [0., 0., 0., 0., 0.],\n",
       "       [0., 0., 0., 0., 0.],\n",
       "       [0., 0., 0., 0., 0.]])"
      ]
     },
     "execution_count": 2,
     "metadata": {},
     "output_type": "execute_result"
    }
   ],
   "source": [
    "rmat = np.zeros((5, 5))\n",
    "rmat"
   ]
  },
  {
   "cell_type": "code",
   "execution_count": 4,
   "metadata": {},
   "outputs": [
    {
     "data": {
      "text/plain": [
       "array([[-0.3310685 , -0.76399741, -0.90861661,  0.17075419, -0.87669729],\n",
       "       [ 0.41303624, -0.77920111, -0.69660287, -0.85661385, -0.81114316],\n",
       "       [-0.84217042,  0.02607063,  0.14362259,  0.30310805, -0.17921563],\n",
       "       [-0.96423744,  0.97197055, -0.20964329,  0.41377644, -0.76564859],\n",
       "       [-0.22427753,  0.40563766,  0.47039379, -0.58112073, -0.83139593]])"
      ]
     },
     "execution_count": 4,
     "metadata": {},
     "output_type": "execute_result"
    }
   ],
   "source": [
    "for i in range(len(rmat)):\n",
    "    for j in range(len(rmat[i])):\n",
    "        rmat[i][j] = np.random.uniform(-1.0, 1.0)\n",
    "rmat"
   ]
  },
  {
   "cell_type": "markdown",
   "metadata": {},
   "source": [
    "symmetrization\n",
    "<br>\n",
    "$H_{s} = (H +H^{T} )/2$"
   ]
  },
  {
   "cell_type": "code",
   "execution_count": 5,
   "metadata": {},
   "outputs": [
    {
     "data": {
      "text/plain": [
       "array([[-0.3310685 ,  0.41303624, -0.84217042, -0.96423744, -0.22427753],\n",
       "       [-0.76399741, -0.77920111,  0.02607063,  0.97197055,  0.40563766],\n",
       "       [-0.90861661, -0.69660287,  0.14362259, -0.20964329,  0.47039379],\n",
       "       [ 0.17075419, -0.85661385,  0.30310805,  0.41377644, -0.58112073],\n",
       "       [-0.87669729, -0.81114316, -0.17921563, -0.76564859, -0.83139593]])"
      ]
     },
     "execution_count": 5,
     "metadata": {},
     "output_type": "execute_result"
    }
   ],
   "source": [
    "rmatT = np.transpose(rmat)\n",
    "rmatT"
   ]
  },
  {
   "cell_type": "code",
   "execution_count": 6,
   "metadata": {},
   "outputs": [
    {
     "data": {
      "text/plain": [
       "array([[-0.3310685 , -0.17548058, -0.87539351, -0.39674162, -0.55048741],\n",
       "       [-0.17548058, -0.77920111, -0.33526612,  0.05767835, -0.20275275],\n",
       "       [-0.87539351, -0.33526612,  0.14362259,  0.04673238,  0.14558908],\n",
       "       [-0.39674162,  0.05767835,  0.04673238,  0.41377644, -0.67338466],\n",
       "       [-0.55048741, -0.20275275,  0.14558908, -0.67338466, -0.83139593]])"
      ]
     },
     "execution_count": 6,
     "metadata": {},
     "output_type": "execute_result"
    }
   ],
   "source": [
    "RMTs = (rmat + rmatT)/2\n",
    "RMTs"
   ]
  },
  {
   "cell_type": "code",
   "execution_count": 19,
   "metadata": {},
   "outputs": [
    {
     "data": {
      "text/plain": [
       "array([[0., 0., 0., 0., 0.],\n",
       "       [0., 0., 0., 0., 0.],\n",
       "       [0., 0., 0., 0., 0.],\n",
       "       [0., 0., 0., 0., 0.],\n",
       "       [0., 0., 0., 0., 0.]])"
      ]
     },
     "execution_count": 19,
     "metadata": {},
     "output_type": "execute_result"
    }
   ],
   "source": [
    "grmt = np.zeros((5, 5))\n",
    "grmt"
   ]
  },
  {
   "cell_type": "code",
   "execution_count": 20,
   "metadata": {},
   "outputs": [
    {
     "data": {
      "text/plain": [
       "array([[-0.93903056, -1.76539175, -0.16336106, -1.41224004, -0.54211977],\n",
       "       [-1.76539175, -0.54713798, -1.67056795, -1.13768674,  0.14454736],\n",
       "       [-0.16336106, -1.67056795,  1.50474573,  0.60059583,  0.50734047],\n",
       "       [-1.41224004, -1.13768674,  0.60059583,  0.15217065,  0.44480571],\n",
       "       [-0.54211977,  0.14454736,  0.50734047,  0.44480571, -0.66741868]])"
      ]
     },
     "execution_count": 20,
     "metadata": {},
     "output_type": "execute_result"
    }
   ],
   "source": [
    "for i in range(len(grmt)):\n",
    "    for j in range(i, len(grmt[i])):\n",
    "        grmt[i][j] = np.random.normal(0.0, 1.0)\n",
    "        grmt[j][i] = grmt[i][j]\n",
    "grmt  "
   ]
  },
  {
   "cell_type": "markdown",
   "metadata": {},
   "source": [
    "Spectral analysis of the matrix"
   ]
  },
  {
   "cell_type": "code",
   "execution_count": 9,
   "metadata": {},
   "outputs": [],
   "source": [
    "from numpy import linalg as LA"
   ]
  },
  {
   "cell_type": "code",
   "execution_count": 21,
   "metadata": {},
   "outputs": [
    {
     "name": "stdout",
     "output_type": "stream",
     "text": [
      "[-3.58309047  2.95677381  1.37285973 -1.05899026 -0.18422365]\n"
     ]
    }
   ],
   "source": [
    "w, v = LA.eig(grmt)\n",
    "print(w)"
   ]
  },
  {
   "cell_type": "code",
   "execution_count": 17,
   "metadata": {},
   "outputs": [
    {
     "name": "stdout",
     "output_type": "stream",
     "text": [
      "[[ 0.35964442  0.64175074  0.66480322  0.12556223  0.0329042 ]\n",
      " [ 0.27213994  0.56080639 -0.63197047 -0.1897885  -0.41955893]\n",
      " [-0.55736805  0.03529876  0.31512998 -0.05182734 -0.7655729 ]\n",
      " [ 0.60301857 -0.45702385  0.22867862 -0.51535693 -0.33107571]\n",
      " [-0.3497216   0.25206225  0.08395943 -0.82458208  0.35661551]]\n"
     ]
    }
   ],
   "source": [
    "print(v)"
   ]
  },
  {
   "cell_type": "code",
   "execution_count": 22,
   "metadata": {},
   "outputs": [
    {
     "data": {
      "text/plain": [
       "-0.4966708386196148"
      ]
     },
     "execution_count": 22,
     "metadata": {},
     "output_type": "execute_result"
    }
   ],
   "source": [
    "np.sum(w)"
   ]
  },
  {
   "cell_type": "code",
   "execution_count": null,
   "metadata": {},
   "outputs": [],
   "source": []
  }
 ],
 "metadata": {
  "kernelspec": {
   "display_name": "Python 3",
   "language": "python",
   "name": "python3"
  },
  "language_info": {
   "codemirror_mode": {
    "name": "ipython",
    "version": 3
   },
   "file_extension": ".py",
   "mimetype": "text/x-python",
   "name": "python",
   "nbconvert_exporter": "python",
   "pygments_lexer": "ipython3",
   "version": "3.7.0"
  }
 },
 "nbformat": 4,
 "nbformat_minor": 4
}
