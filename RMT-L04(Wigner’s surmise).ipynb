{
 "cells": [
  {
   "cell_type": "markdown",
   "metadata": {},
   "source": [
    "# Wigner’s surmise"
   ]
  },
  {
   "cell_type": "code",
   "execution_count": 1,
   "metadata": {},
   "outputs": [],
   "source": [
    "import numpy as np\n",
    "from numpy import linalg as LA\n",
    "import matplotlib.pyplot as plt\n",
    "import scipy.stats as stats"
   ]
  },
  {
   "cell_type": "code",
   "execution_count": 2,
   "metadata": {},
   "outputs": [],
   "source": [
    "class RMT1():\n",
    "    #RMT\n",
    "    def __init__(self, n):\n",
    "        self.N = n\n",
    "        self.rmt = np.zeros((self.N , self.N))\n",
    "    \n",
    "    def URMT(self, x1, x2):\n",
    "        for i in range(len(self.rmt)):\n",
    "            for j in range(len(self.rmt[i])):\n",
    "                self.rmt[i][j] = np.random.uniform(x1, x2)\n",
    "                self.rmt[j][i] = self.rmt[i][j]\n",
    "    \n",
    "    #GOE (Gaussian Orthogonal Ensemble)\n",
    "    def GRMT0(self, mu, sigma):\n",
    "        for i in range(len(self.rmt)):\n",
    "            for j in range(len(self.rmt[i])):\n",
    "                self.rmt[i][j] = np.random.normal(mu, sigma)\n",
    "        rmatT = np.transpose(self.rmt)\n",
    "        self.rmt = (self.rmt + rmatT)/2\n",
    "   \n",
    "    def GRMT1(self, mu, sigma):\n",
    "        for i in range(len(self.rmt)):\n",
    "            for j in range(i, len(self.rmt[i])):\n",
    "                self.rmt[i][j] = np.random.normal(mu, sigma)\n",
    "                self.rmt[j][i] = self.rmt[i][j]\n",
    "\n",
    "    def GRMT2(self, mud, sigmad, mu, sigma):\n",
    "        for i in range(len(self.rmt)):\n",
    "            for j in range(i, len(self.rmt[i])):\n",
    "                self.rmt[i][j] = np.random.normal(mu, sigma)\n",
    "                self.rmt[j][i] = self.rmt[i][j]\n",
    "            self.rmt[i][i] = np.random.normal(mud, sigmad)\n",
    "    \n",
    "    def GRMT3(self, mud, sigmad, mu, sigma):\n",
    "        self.rmt[0][1] = np.random.normal(mu, sigma)\n",
    "        self.rmt[1][0] = self.rmt[0][1]\n",
    "        for i in range(len(self.rmt)):\n",
    "            self.rmt[i][i] = np.random.normal(mud, sigmad)\n"
   ]
  },
  {
   "cell_type": "code",
   "execution_count": 3,
   "metadata": {},
   "outputs": [
    {
     "name": "stdout",
     "output_type": "stream",
     "text": [
      "[[-0.6262817  -1.26421225]\n",
      " [-1.26421225 -0.40652256]]\n"
     ]
    }
   ],
   "source": [
    "myRMT = RMT1(2)\n",
    "myRMT.GRMT3(0, 1, 0, np.sqrt(0.5))\n",
    "e = LA.eigvals(myRMT.rmt)\n",
    "print(myRMT.rmt)"
   ]
  },
  {
   "cell_type": "code",
   "execution_count": 4,
   "metadata": {},
   "outputs": [
    {
     "data": {
      "text/plain": [
       "array([-1.78538051,  0.75257625])"
      ]
     },
     "execution_count": 4,
     "metadata": {},
     "output_type": "execute_result"
    }
   ],
   "source": [
    "np.sort(e)"
   ]
  },
  {
   "cell_type": "markdown",
   "metadata": {},
   "source": [
    "$ s = \\lambda_{2} - \\lambda_{1} $ and $\\lambda_{2} > \\lambda_{1}$\n",
    "<br>\n",
    "$\\rho(s) = ?$"
   ]
  },
  {
   "cell_type": "code",
   "execution_count": 5,
   "metadata": {},
   "outputs": [
    {
     "name": "stdout",
     "output_type": "stream",
     "text": [
      "1.766171850615363\n"
     ]
    }
   ],
   "source": [
    "myRMT = RMT1(2)\n",
    "EN = 20000\n",
    "s = []\n",
    "for i in range(EN):\n",
    "    myRMT.GRMT3(0, 1, 0, np.sqrt(0.500))\n",
    "    e = np.sort(LA.eigvals(myRMT.rmt))\n",
    "    s.append(e[1]-e[0])\n",
    "s = np.array(s)\n",
    "ms = np.mean(s)\n",
    "print(ms)"
   ]
  },
  {
   "cell_type": "code",
   "execution_count": 6,
   "metadata": {},
   "outputs": [
    {
     "data": {
      "image/png": "[encoded data removed]",
      "text/plain": [
       "<Figure size 432x288 with 1 Axes>"
      ]
     },
     "metadata": {
      "needs_background": "light"
     },
     "output_type": "display_data"
    }
   ],
   "source": [
    "n, x, _ = plt.hist(s, bins=50, histtype=u'step', density=True)\n",
    "density = stats.gaussian_kde(s)\n",
    "density.covariance_factor = lambda : 0.2\n",
    "density._compute_covariance()\n",
    "plt.plot(x, density(x))\n",
    "plt.show()"
   ]
  },
  {
   "cell_type": "markdown",
   "metadata": {},
   "source": [
    "$\\rho(s) = \\frac{s}{2} e^{-s^2/4}$"
   ]
  },
  {
   "cell_type": "code",
   "execution_count": 7,
   "metadata": {},
   "outputs": [],
   "source": [
    "def ws(s):\n",
    "    return (s/2)*np.exp(-(s**2)/4)\n",
    "\n",
    "ts = np.arange(0, 6, 0.01)\n",
    "tps = []\n",
    "for i in range(len(ts)):\n",
    "    tps.append(ws(ts[i]))"
   ]
  },
  {
   "cell_type": "code",
   "execution_count": 11,
   "metadata": {},
   "outputs": [
    {
     "data": {
      "image/png": "[encoded data removed]",
      "text/plain": [
       "<Figure size 432x288 with 1 Axes>"
      ]
     },
     "metadata": {
      "needs_background": "light"
     },
     "output_type": "display_data"
    }
   ],
   "source": [
    "density = stats.gaussian_kde(s)\n",
    "density.covariance_factor = lambda : 0.2\n",
    "density._compute_covariance()\n",
    "plt.plot(x, density(x), label='Simulation')\n",
    "plt.plot(ts, tps, color='red', label=r'$\\frac{s}{2} e^{-s^2/4}$')\n",
    "plt.legend()\n",
    "plt.xlim(0, 6)\n",
    "plt.xlabel('$s$')\n",
    "plt.ylabel(r'$\\rho(s)$')\n",
    "plt.show()"
   ]
  }
 ],
 "metadata": {
  "kernelspec": {
   "display_name": "Python 3",
   "language": "python",
   "name": "python3"
  },
  "language_info": {
   "codemirror_mode": {
    "name": "ipython",
    "version": 3
   },
   "file_extension": ".py",
   "mimetype": "text/x-python",
   "name": "python",
   "nbconvert_exporter": "python",
   "pygments_lexer": "ipython3",
   "version": "3.7.0"
  }
 },
 "nbformat": 4,
 "nbformat_minor": 4
}
