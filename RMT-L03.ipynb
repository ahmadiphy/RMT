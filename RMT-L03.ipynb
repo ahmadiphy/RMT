{
 "cells": [
  {
   "cell_type": "markdown",
   "metadata": {},
   "source": [
    "# Generating and analysis of random matrix"
   ]
  },
  {
   "cell_type": "code",
   "execution_count": 1,
   "metadata": {},
   "outputs": [],
   "source": [
    "import numpy as np\n",
    "from numpy import linalg as LA"
   ]
  },
  {
   "cell_type": "code",
   "execution_count": 3,
   "metadata": {},
   "outputs": [],
   "source": [
    "class RMT():\n",
    "    #RMT\n",
    "    def __init__(self, n):\n",
    "        self.N = n\n",
    "        self.rmt = np.zeros((self.N , self.N))\n",
    "    \n",
    "    def URMT(self, x1, x2):\n",
    "        for i in range(len(self.rmt)):\n",
    "            for j in range(len(self.rmt[i])):\n",
    "                self.rmt[i][j] = np.random.uniform(x1, x2)\n",
    "                self.rmt[j][i] = self.rmt[i][j]\n",
    "\n",
    "    def GRMT1(self, m, v):\n",
    "        for i in range(len(self.rmt)):\n",
    "            for j in range(len(self.rmt[i])):\n",
    "                self.rmt[i][j] = np.random.normal(m, v)\n",
    "                self.rmt[j][i] = self.rmt[i][j]\n",
    "\n",
    "    def GRMT2(self, md, vd, m, d):\n",
    "        \n",
    "        for i in range(len(self.rmt)):\n",
    "            for j in range(len(self.rmt[i])):\n",
    "                self.rmt[i][j] = np.random.normal(m, v)\n",
    "                self.rmt[j][i] = self.rmt[i][j]\n",
    "            self.rmt[i][i] = np.random.normal(md, vd)"
   ]
  },
  {
   "cell_type": "code",
   "execution_count": null,
   "metadata": {},
   "outputs": [],
   "source": []
  }
 ],
 "metadata": {
  "kernelspec": {
   "display_name": "Python 3",
   "language": "python",
   "name": "python3"
  },
  "language_info": {
   "codemirror_mode": {
    "name": "ipython",
    "version": 3
   },
   "file_extension": ".py",
   "mimetype": "text/x-python",
   "name": "python",
   "nbconvert_exporter": "python",
   "pygments_lexer": "ipython3",
   "version": "3.7.0"
  }
 },
 "nbformat": 4,
 "nbformat_minor": 4
}
